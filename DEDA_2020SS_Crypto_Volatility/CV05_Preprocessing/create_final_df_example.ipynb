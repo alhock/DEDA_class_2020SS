{
 "cells": [
  {
   "cell_type": "code",
   "execution_count": 1,
   "metadata": {},
   "outputs": [],
   "source": [
    "import pandas as pd\n",
    "import numpy as np\n",
    "from datetime import datetime\n",
    "import matplotlib\n",
    "import re\n",
    "import nltk\n",
    "from nltk.tokenize import word_tokenize\n",
    "from string import punctuation \n",
    "from nltk.corpus import stopwords \n",
    "from SentimentAnalyser import SentimentAnalyser\n",
    "from nltk.tokenize.treebank import TreebankWordDetokenizer"
   ]
  },
  {
   "cell_type": "markdown",
   "metadata": {},
   "source": [
    "## Read in data "
   ]
  },
  {
   "cell_type": "markdown",
   "metadata": {},
   "source": [
    "### Market data"
   ]
  },
  {
   "cell_type": "code",
   "execution_count": 2,
   "metadata": {},
   "outputs": [
    {
     "output_type": "execute_result",
     "data": {
      "text/plain": "         time    close     high      low     open  volumefrom     volumeto  \\\n0  1589572800  9247.26  9398.00  9149.13  9341.23     7890.76  73070842.81   \n1  1589576400  9416.95  9442.75  9209.07  9247.26     3556.95  33204441.74   \n2  1589580000  9360.45  9481.70  9349.47  9416.95     3168.34  29846247.61   \n3  1589583600  9311.69  9387.99  9260.10  9360.45     2593.46  24173364.88   \n4  1589587200  9389.18  9392.76  9224.32  9311.69     3187.38  29687521.08   \n\n        mid  \n0  9273.565  \n1  9325.910  \n2  9415.585  \n3  9324.045  \n4  9308.540  ",
      "text/html": "<div>\n<style scoped>\n    .dataframe tbody tr th:only-of-type {\n        vertical-align: middle;\n    }\n\n    .dataframe tbody tr th {\n        vertical-align: top;\n    }\n\n    .dataframe thead th {\n        text-align: right;\n    }\n</style>\n<table border=\"1\" class=\"dataframe\">\n  <thead>\n    <tr style=\"text-align: right;\">\n      <th></th>\n      <th>time</th>\n      <th>close</th>\n      <th>high</th>\n      <th>low</th>\n      <th>open</th>\n      <th>volumefrom</th>\n      <th>volumeto</th>\n      <th>mid</th>\n    </tr>\n  </thead>\n  <tbody>\n    <tr>\n      <th>0</th>\n      <td>1589572800</td>\n      <td>9247.26</td>\n      <td>9398.00</td>\n      <td>9149.13</td>\n      <td>9341.23</td>\n      <td>7890.76</td>\n      <td>73070842.81</td>\n      <td>9273.565</td>\n    </tr>\n    <tr>\n      <th>1</th>\n      <td>1589576400</td>\n      <td>9416.95</td>\n      <td>9442.75</td>\n      <td>9209.07</td>\n      <td>9247.26</td>\n      <td>3556.95</td>\n      <td>33204441.74</td>\n      <td>9325.910</td>\n    </tr>\n    <tr>\n      <th>2</th>\n      <td>1589580000</td>\n      <td>9360.45</td>\n      <td>9481.70</td>\n      <td>9349.47</td>\n      <td>9416.95</td>\n      <td>3168.34</td>\n      <td>29846247.61</td>\n      <td>9415.585</td>\n    </tr>\n    <tr>\n      <th>3</th>\n      <td>1589583600</td>\n      <td>9311.69</td>\n      <td>9387.99</td>\n      <td>9260.10</td>\n      <td>9360.45</td>\n      <td>2593.46</td>\n      <td>24173364.88</td>\n      <td>9324.045</td>\n    </tr>\n    <tr>\n      <th>4</th>\n      <td>1589587200</td>\n      <td>9389.18</td>\n      <td>9392.76</td>\n      <td>9224.32</td>\n      <td>9311.69</td>\n      <td>3187.38</td>\n      <td>29687521.08</td>\n      <td>9308.540</td>\n    </tr>\n  </tbody>\n</table>\n</div>"
     },
     "metadata": {},
     "execution_count": 2
    }
   ],
   "source": [
    "btc_market = pd.read_csv(\"../data/Market/BTC-USD-80.csv\")\n",
    "btc_market.head()"
   ]
  },
  {
   "cell_type": "markdown",
   "metadata": {},
   "source": [
    "#### Convert unix code time to more readable datetime format"
   ]
  },
  {
   "cell_type": "code",
   "execution_count": 3,
   "metadata": {},
   "outputs": [],
   "source": [
    "btc_market['time_formatted'] = pd.to_datetime(btc_market['time'], unit='s')"
   ]
  },
  {
   "cell_type": "code",
   "execution_count": 4,
   "metadata": {},
   "outputs": [
    {
     "output_type": "execute_result",
     "data": {
      "text/plain": "         time      time_formatted\n0  1589572800 2020-05-15 20:00:00\n1  1589576400 2020-05-15 21:00:00\n2  1589580000 2020-05-15 22:00:00\n3  1589583600 2020-05-15 23:00:00\n4  1589587200 2020-05-16 00:00:00",
      "text/html": "<div>\n<style scoped>\n    .dataframe tbody tr th:only-of-type {\n        vertical-align: middle;\n    }\n\n    .dataframe tbody tr th {\n        vertical-align: top;\n    }\n\n    .dataframe thead th {\n        text-align: right;\n    }\n</style>\n<table border=\"1\" class=\"dataframe\">\n  <thead>\n    <tr style=\"text-align: right;\">\n      <th></th>\n      <th>time</th>\n      <th>time_formatted</th>\n    </tr>\n  </thead>\n  <tbody>\n    <tr>\n      <th>0</th>\n      <td>1589572800</td>\n      <td>2020-05-15 20:00:00</td>\n    </tr>\n    <tr>\n      <th>1</th>\n      <td>1589576400</td>\n      <td>2020-05-15 21:00:00</td>\n    </tr>\n    <tr>\n      <th>2</th>\n      <td>1589580000</td>\n      <td>2020-05-15 22:00:00</td>\n    </tr>\n    <tr>\n      <th>3</th>\n      <td>1589583600</td>\n      <td>2020-05-15 23:00:00</td>\n    </tr>\n    <tr>\n      <th>4</th>\n      <td>1589587200</td>\n      <td>2020-05-16 00:00:00</td>\n    </tr>\n  </tbody>\n</table>\n</div>"
     },
     "metadata": {},
     "execution_count": 4
    }
   ],
   "source": [
    "btc_market[['time', 'time_formatted']].head()"
   ]
  },
  {
   "cell_type": "markdown",
   "metadata": {},
   "source": [
    "### Volatility data"
   ]
  },
  {
   "cell_type": "code",
   "execution_count": 5,
   "metadata": {},
   "outputs": [
    {
     "output_type": "execute_result",
     "data": {
      "text/plain": "           date       vcrix\n147  2020-05-27  873.952874\n148  2020-05-28  871.938590\n149  2020-05-29  900.197688\n150  2020-05-30  898.384012\n151  2020-05-31  819.182235",
      "text/html": "<div>\n<style scoped>\n    .dataframe tbody tr th:only-of-type {\n        vertical-align: middle;\n    }\n\n    .dataframe tbody tr th {\n        vertical-align: top;\n    }\n\n    .dataframe thead th {\n        text-align: right;\n    }\n</style>\n<table border=\"1\" class=\"dataframe\">\n  <thead>\n    <tr style=\"text-align: right;\">\n      <th></th>\n      <th>date</th>\n      <th>vcrix</th>\n    </tr>\n  </thead>\n  <tbody>\n    <tr>\n      <th>147</th>\n      <td>2020-05-27</td>\n      <td>873.952874</td>\n    </tr>\n    <tr>\n      <th>148</th>\n      <td>2020-05-28</td>\n      <td>871.938590</td>\n    </tr>\n    <tr>\n      <th>149</th>\n      <td>2020-05-29</td>\n      <td>900.197688</td>\n    </tr>\n    <tr>\n      <th>150</th>\n      <td>2020-05-30</td>\n      <td>898.384012</td>\n    </tr>\n    <tr>\n      <th>151</th>\n      <td>2020-05-31</td>\n      <td>819.182235</td>\n    </tr>\n  </tbody>\n</table>\n</div>"
     },
     "metadata": {},
     "execution_count": 5
    }
   ],
   "source": [
    "btc_volatility = pd.read_csv(\"../data/Market/vcrix.csv\")\n",
    "btc_volatility.tail()"
   ]
  },
  {
   "cell_type": "code",
   "execution_count": 6,
   "metadata": {},
   "outputs": [],
   "source": [
    "btc_volatility['date'] = pd.to_datetime(btc_volatility['date'])"
   ]
  },
  {
   "cell_type": "code",
   "execution_count": 7,
   "metadata": {},
   "outputs": [],
   "source": [
    "# btc_volatility.drop(columns=['Unnamed: 0', 'n'], inplace=True)\n",
    "\n",
    "# btc_volatility = btc_volatility[(btc_volatility['date'] >= '2020-01-01') & (btc_volatility['date'] < '2020-0-01')]\n",
    "# btc_volatility"
   ]
  },
  {
   "cell_type": "code",
   "execution_count": 8,
   "metadata": {},
   "outputs": [],
   "source": [
    "btc_volatility['vcrix_log_diff'] = np.log(btc_volatility['vcrix']) - np.log(btc_volatility['vcrix'].shift(1))"
   ]
  },
  {
   "cell_type": "markdown",
   "metadata": {},
   "source": [
    "### Trend"
   ]
  },
  {
   "cell_type": "code",
   "execution_count": 9,
   "metadata": {},
   "outputs": [
    {
     "output_type": "execute_result",
     "data": {
      "text/plain": "         date  Bitcoin  BTC  isPartial\n0  2020-01-01       49   13      False",
      "text/html": "<div>\n<style scoped>\n    .dataframe tbody tr th:only-of-type {\n        vertical-align: middle;\n    }\n\n    .dataframe tbody tr th {\n        vertical-align: top;\n    }\n\n    .dataframe thead th {\n        text-align: right;\n    }\n</style>\n<table border=\"1\" class=\"dataframe\">\n  <thead>\n    <tr style=\"text-align: right;\">\n      <th></th>\n      <th>date</th>\n      <th>Bitcoin</th>\n      <th>BTC</th>\n      <th>isPartial</th>\n    </tr>\n  </thead>\n  <tbody>\n    <tr>\n      <th>0</th>\n      <td>2020-01-01</td>\n      <td>49</td>\n      <td>13</td>\n      <td>False</td>\n    </tr>\n  </tbody>\n</table>\n</div>"
     },
     "metadata": {},
     "execution_count": 9
    }
   ],
   "source": [
    "btc_trend = pd.read_csv('../data/Trends/BTC_trend_complete.csv')\n",
    "btc_trend"
   ]
  },
  {
   "cell_type": "code",
   "execution_count": 10,
   "metadata": {},
   "outputs": [
    {
     "output_type": "execute_result",
     "data": {
      "text/plain": "0   2020-01-01\nName: date, dtype: datetime64[ns]"
     },
     "metadata": {},
     "execution_count": 10
    }
   ],
   "source": [
    "btc_trend['date'] = pd.to_datetime(btc_trend['date'])\n",
    "btc_trend['date'].head()"
   ]
  },
  {
   "cell_type": "markdown",
   "metadata": {},
   "source": [
    "### Tweets"
   ]
  },
  {
   "cell_type": "code",
   "execution_count": 11,
   "metadata": {},
   "outputs": [],
   "source": [
    "# sentiment analyser class\n",
    "sent_analyser = SentimentAnalyser()"
   ]
  },
  {
   "cell_type": "code",
   "execution_count": 12,
   "metadata": {},
   "outputs": [],
   "source": [
    "# stopwords for cleaning\n",
    "stopwords = set(stopwords.words('english') + list(punctuation) + ['AT_USER','URL'])"
   ]
  },
  {
   "cell_type": "code",
   "execution_count": 13,
   "metadata": {},
   "outputs": [],
   "source": [
    "# cleaning method for tweets\n",
    "def processTweet(tweet):\n",
    "        tweet = tweet.lower() # convert text to lower-case\n",
    "        tweet = re.sub('((www\\.[^\\s]+)|(https?://[^\\s]+))', 'URL', tweet) # remove URLs\n",
    "        tweet = re.sub('@[^\\s]+', 'AT_USER', tweet) # remove usernames\n",
    "        tweet = re.sub(r'#([^\\s]+)', r'\\1', tweet) # remove the # in #hashtag\n",
    "        tweet = word_tokenize(tweet) # remove repeated characters (helloooooooo into hello)\n",
    "        tweet = [word for word in tweet if word not in stopwords]\n",
    "        tweet = TreebankWordDetokenizer().detokenize(tweet)\n",
    "        return tweet"
   ]
  },
  {
   "cell_type": "code",
   "execution_count": 14,
   "metadata": {},
   "outputs": [],
   "source": [
    "def processTweets(chunk):\n",
    "    processed_tweets = []\n",
    "    tweet_sentiments = []\n",
    "    for tweet in chunk['text']:\n",
    "        if isinstance(tweet, str):\n",
    "            # clean tweet\n",
    "            processed_tweet = processTweet(tweet)\n",
    "            \n",
    "            # perform sentiment analysis on cleaned tweet using Sentiment Analyser\n",
    "            tweet_sentiment = sent_analyser.sentiment_analyzer_scores(processed_tweet) # returns dictionary \n",
    "\n",
    "            # add to respective lists\n",
    "            processed_tweets.append(processed_tweet)\n",
    "            tweet_sentiments.append(tweet_sentiment)\n",
    "\n",
    "    return (processed_tweets, pd.DataFrame(tweet_sentiments))"
   ]
  },
  {
   "cell_type": "code",
   "execution_count": 15,
   "metadata": {},
   "outputs": [],
   "source": [
    "# read the large csv file with specified chunksize \n",
    "df_chunk = pd.read_csv('../data/Tweets/combined_tweets.csv', chunksize=50000) # add nrows=100 for testing\n",
    "\n",
    "#df_chunk = pd.read_csv('data/by_day/tweets_btc_2020-05-12.csv', chunksize=500)"
   ]
  },
  {
   "cell_type": "code",
   "execution_count": 16,
   "metadata": {
    "tags": []
   },
   "outputs": [],
   "source": [
    "chunk_list = []  # append each chunk df here \n",
    "\n",
    "# Each chunk is in df format\n",
    "for chunk in df_chunk:  \n",
    "    # drop columns where text contains nan\n",
    "    chunk.dropna(subset=['text'], inplace=True)\n",
    "\n",
    "    # init empty sentiment columns \n",
    "    chunk[['neg', 'neu', 'pos', 'compound']] = pd.DataFrame([[np.nan, np.nan, np.nan, np.nan]], index=chunk.index)\n",
    "\n",
    "    # perform data filtering \n",
    "    chunk_text_filtered = processTweets(chunk)\n",
    "\n",
    "    # set filtered text and sentiments\n",
    "    chunk['text'], chunk[['neg', 'neu', 'pos', 'compound']] = chunk_text_filtered\n",
    "    \n",
    "    # Once the data filtering is done, append the chunk to list\n",
    "    chunk_list.append(chunk)\n",
    "    \n",
    "# concat the list into dataframe \n",
    "btc_tweets = pd.concat(chunk_list.copy())"
   ]
  },
  {
   "cell_type": "code",
   "execution_count": 17,
   "metadata": {},
   "outputs": [
    {
     "output_type": "execute_result",
     "data": {
      "text/plain": "     screen_name                                    username  \\\n0      bitcointe                                 Bitcointe 💎   \n1   reqBitcoinJS  Bitcoin.js //Bitcoin price every half hour   \n2        Zectro1                                      Zectro   \n3    domainrecap                                Domain Recap   \n4  BittrexPrices                               BittrexPrices   \n\n               user_id             tweet_id  \\\n0  1111726282008641542  1212523680120627200   \n1  1082323663238713345  1212523651477786624   \n2  1035701087167102976  1212523515632586756   \n3   938629455446200325  1212523382463438849   \n4  1000111792444657665  1212522980854632450   \n\n                                   tweet_url            timestamp  \\\n0      /bitcointe/status/1212523680120627200  2020-01-01 23:59:07   \n1   /reqBitcoinJS/status/1212523651477786624  2020-01-01 23:59:00   \n2        /Zectro1/status/1212523515632586756  2020-01-01 23:58:28   \n3    /domainrecap/status/1212523382463438849  2020-01-01 23:57:56   \n4  /BittrexPrices/status/1212522980854632450  2020-01-01 23:56:20   \n\n   timestamp_epochs                                               text  \\\n0        1577923147  key gamers crypto blockchain share new 12 mont...   \n1        1577923140  jan 1 2020 23:58:00 utc 7,188 usd €6,409 eur £...   \n2        1577923108  've got divorce idea every critic bsv fan btcn...   \n3        1577923076  released tbr .ca results leftovers january 1 b...   \n4        1577922980  prices update usdt 1 hour btc 7198.97 +0.07 et...   \n\n                                           text_html  \\\n0  <p class=\"TweetTextSize js-tweet-text tweet-te...   \n1  <p class=\"TweetTextSize js-tweet-text tweet-te...   \n2  <p class=\"TweetTextSize js-tweet-text tweet-te...   \n3  <p class=\"TweetTextSize js-tweet-text tweet-te...   \n4  <p class=\"TweetTextSize js-tweet-text tweet-te...   \n\n                                               links  ... retweets  replies  \\\n0  ['https://www.bitcointe.com/2020/01/01/key-gam...  ...        0        0   \n1                                                 []  ...        0        0   \n2                                                 []  ...        0        1   \n3  ['https://www.domainrecap.com/2020/picks/to-be...  ...        0        0   \n4                                                 []  ...        0        0   \n\n  is_replied  is_reply_to  parent_tweet_id  \\\n0      False        False              NaN   \n1      False        False              NaN   \n2       True         True     1.212506e+18   \n3      False        False              NaN   \n4      False        False              NaN   \n\n                                      reply_to_users    neg    neu    pos  \\\n0                                                 []  0.000  0.774  0.226   \n1                                                 []  0.000  1.000  0.000   \n2  [{'screen_name': '1071_twetch', 'user_id': '97...  0.293  0.481  0.225   \n3                                                 []  0.000  1.000  0.000   \n4                                                 []  0.000  1.000  0.000   \n\n   compound  \n0    0.3612  \n1    0.0000  \n2   -0.4534  \n3    0.0000  \n4    0.0000  \n\n[5 rows x 25 columns]",
      "text/html": "<div>\n<style scoped>\n    .dataframe tbody tr th:only-of-type {\n        vertical-align: middle;\n    }\n\n    .dataframe tbody tr th {\n        vertical-align: top;\n    }\n\n    .dataframe thead th {\n        text-align: right;\n    }\n</style>\n<table border=\"1\" class=\"dataframe\">\n  <thead>\n    <tr style=\"text-align: right;\">\n      <th></th>\n      <th>screen_name</th>\n      <th>username</th>\n      <th>user_id</th>\n      <th>tweet_id</th>\n      <th>tweet_url</th>\n      <th>timestamp</th>\n      <th>timestamp_epochs</th>\n      <th>text</th>\n      <th>text_html</th>\n      <th>links</th>\n      <th>...</th>\n      <th>retweets</th>\n      <th>replies</th>\n      <th>is_replied</th>\n      <th>is_reply_to</th>\n      <th>parent_tweet_id</th>\n      <th>reply_to_users</th>\n      <th>neg</th>\n      <th>neu</th>\n      <th>pos</th>\n      <th>compound</th>\n    </tr>\n  </thead>\n  <tbody>\n    <tr>\n      <th>0</th>\n      <td>bitcointe</td>\n      <td>Bitcointe 💎</td>\n      <td>1111726282008641542</td>\n      <td>1212523680120627200</td>\n      <td>/bitcointe/status/1212523680120627200</td>\n      <td>2020-01-01 23:59:07</td>\n      <td>1577923147</td>\n      <td>key gamers crypto blockchain share new 12 mont...</td>\n      <td>&lt;p class=\"TweetTextSize js-tweet-text tweet-te...</td>\n      <td>['https://www.bitcointe.com/2020/01/01/key-gam...</td>\n      <td>...</td>\n      <td>0</td>\n      <td>0</td>\n      <td>False</td>\n      <td>False</td>\n      <td>NaN</td>\n      <td>[]</td>\n      <td>0.000</td>\n      <td>0.774</td>\n      <td>0.226</td>\n      <td>0.3612</td>\n    </tr>\n    <tr>\n      <th>1</th>\n      <td>reqBitcoinJS</td>\n      <td>Bitcoin.js //Bitcoin price every half hour</td>\n      <td>1082323663238713345</td>\n      <td>1212523651477786624</td>\n      <td>/reqBitcoinJS/status/1212523651477786624</td>\n      <td>2020-01-01 23:59:00</td>\n      <td>1577923140</td>\n      <td>jan 1 2020 23:58:00 utc 7,188 usd €6,409 eur £...</td>\n      <td>&lt;p class=\"TweetTextSize js-tweet-text tweet-te...</td>\n      <td>[]</td>\n      <td>...</td>\n      <td>0</td>\n      <td>0</td>\n      <td>False</td>\n      <td>False</td>\n      <td>NaN</td>\n      <td>[]</td>\n      <td>0.000</td>\n      <td>1.000</td>\n      <td>0.000</td>\n      <td>0.0000</td>\n    </tr>\n    <tr>\n      <th>2</th>\n      <td>Zectro1</td>\n      <td>Zectro</td>\n      <td>1035701087167102976</td>\n      <td>1212523515632586756</td>\n      <td>/Zectro1/status/1212523515632586756</td>\n      <td>2020-01-01 23:58:28</td>\n      <td>1577923108</td>\n      <td>'ve got divorce idea every critic bsv fan btcn...</td>\n      <td>&lt;p class=\"TweetTextSize js-tweet-text tweet-te...</td>\n      <td>[]</td>\n      <td>...</td>\n      <td>0</td>\n      <td>1</td>\n      <td>True</td>\n      <td>True</td>\n      <td>1.212506e+18</td>\n      <td>[{'screen_name': '1071_twetch', 'user_id': '97...</td>\n      <td>0.293</td>\n      <td>0.481</td>\n      <td>0.225</td>\n      <td>-0.4534</td>\n    </tr>\n    <tr>\n      <th>3</th>\n      <td>domainrecap</td>\n      <td>Domain Recap</td>\n      <td>938629455446200325</td>\n      <td>1212523382463438849</td>\n      <td>/domainrecap/status/1212523382463438849</td>\n      <td>2020-01-01 23:57:56</td>\n      <td>1577923076</td>\n      <td>released tbr .ca results leftovers january 1 b...</td>\n      <td>&lt;p class=\"TweetTextSize js-tweet-text tweet-te...</td>\n      <td>['https://www.domainrecap.com/2020/picks/to-be...</td>\n      <td>...</td>\n      <td>0</td>\n      <td>0</td>\n      <td>False</td>\n      <td>False</td>\n      <td>NaN</td>\n      <td>[]</td>\n      <td>0.000</td>\n      <td>1.000</td>\n      <td>0.000</td>\n      <td>0.0000</td>\n    </tr>\n    <tr>\n      <th>4</th>\n      <td>BittrexPrices</td>\n      <td>BittrexPrices</td>\n      <td>1000111792444657665</td>\n      <td>1212522980854632450</td>\n      <td>/BittrexPrices/status/1212522980854632450</td>\n      <td>2020-01-01 23:56:20</td>\n      <td>1577922980</td>\n      <td>prices update usdt 1 hour btc 7198.97 +0.07 et...</td>\n      <td>&lt;p class=\"TweetTextSize js-tweet-text tweet-te...</td>\n      <td>[]</td>\n      <td>...</td>\n      <td>0</td>\n      <td>0</td>\n      <td>False</td>\n      <td>False</td>\n      <td>NaN</td>\n      <td>[]</td>\n      <td>0.000</td>\n      <td>1.000</td>\n      <td>0.000</td>\n      <td>0.0000</td>\n    </tr>\n  </tbody>\n</table>\n<p>5 rows × 25 columns</p>\n</div>"
     },
     "metadata": {},
     "execution_count": 17
    }
   ],
   "source": [
    "btc_tweets.head()"
   ]
  },
  {
   "cell_type": "code",
   "execution_count": 23,
   "metadata": {},
   "outputs": [],
   "source": [
    "btc_tweets['timestamp'] = pd.to_datetime(btc_tweets['timestamp'])"
   ]
  },
  {
   "cell_type": "code",
   "execution_count": 24,
   "metadata": {},
   "outputs": [],
   "source": [
    "btc_tweets.sort_values(by=\"timestamp\", inplace=True)"
   ]
  },
  {
   "cell_type": "code",
   "execution_count": 25,
   "metadata": {},
   "outputs": [
    {
     "output_type": "execute_result",
     "data": {
      "text/plain": "True"
     },
     "metadata": {},
     "execution_count": 25
    }
   ],
   "source": [
    "# check if duplicate tweets exist\n",
    "len(btc_tweets['tweet_id']) != len(set(btc_tweets['tweet_id']))"
   ]
  },
  {
   "cell_type": "code",
   "execution_count": 26,
   "metadata": {},
   "outputs": [
    {
     "output_type": "execute_result",
     "data": {
      "text/plain": "False"
     },
     "metadata": {},
     "execution_count": 26
    }
   ],
   "source": [
    "# drop all rows with duplicate tweet id\n",
    "btc_tweets.drop_duplicates(subset =\"tweet_id\", inplace = True)\n",
    "\n",
    "# check again if duplicate tweets exist\n",
    "len(btc_tweets['tweet_id']) != len(set(btc_tweets['tweet_id']))"
   ]
  },
  {
   "cell_type": "code",
   "execution_count": 27,
   "metadata": {},
   "outputs": [
    {
     "output_type": "execute_result",
     "data": {
      "text/plain": "(997, 25)"
     },
     "metadata": {},
     "execution_count": 27
    }
   ],
   "source": [
    "btc_tweets.shape"
   ]
  },
  {
   "cell_type": "code",
   "execution_count": 28,
   "metadata": {},
   "outputs": [
    {
     "output_type": "execute_result",
     "data": {
      "text/plain": "          screen_name                username              user_id  \\\n1003    BinancePrices           BinancePrices  1000390115611566080   \n1002       cryptosEUR  Cryptocurrencies / EUR  1025494047564226560   \n1001       cryptosUSD  Cryptocurrencies / USD  1024959511071797248   \n1000  the_alphatrades            Alpha Trades   876494440369717248   \n999      IAM__Network            IAM Platform            226310002   \n\n                 tweet_id                                    tweet_url  \\\n1003  1212415970423259136    /BinancePrices/status/1212415970423259136   \n1002  1212416074920157186       /cryptosEUR/status/1212416074920157186   \n1001  1212416083623325696       /cryptosUSD/status/1212416083623325696   \n1000  1212416252523749376  /the_alphatrades/status/1212416252523749376   \n999   1212416348288159756     /IAM__Network/status/1212416348288159756   \n\n               timestamp  timestamp_epochs  \\\n1003 2020-01-01 16:51:07        1577897467   \n1002 2020-01-01 16:51:32        1577897492   \n1001 2020-01-01 16:51:34        1577897494   \n1000 2020-01-01 16:52:14        1577897534   \n999  2020-01-01 16:52:37        1577897557   \n\n                                                   text  \\\n1003  prices update usdt 1 hour btc 7227.23 +0.1 eth...   \n1002  prices update eur 1 hour btc 6436.2 € +0.04 et...   \n1001  prices update usd 1 hour btc 7209.1 +0.01 eth ...   \n1000  bitcoin bottomed 6400 opportunities local pric...   \n999   iam platform curated tweet istanbul blockchain...   \n\n                                              text_html  \\\n1003  <p class=\"TweetTextSize js-tweet-text tweet-te...   \n1002  <p class=\"TweetTextSize js-tweet-text tweet-te...   \n1001  <p class=\"TweetTextSize js-tweet-text tweet-te...   \n1000  <p class=\"TweetTextSize js-tweet-text tweet-te...   \n999   <p class=\"TweetTextSize js-tweet-text tweet-te...   \n\n                                                  links  ... retweets  \\\n1003                                                 []  ...        0   \n1002                                                 []  ...        0   \n1001                                                 []  ...        0   \n1000                   ['https://youtu.be/yXL1t3Qy07U']  ...        0   \n999   ['https://blog.iammarketingmedia.com/istanbul-...  ...        0   \n\n      replies is_replied  is_reply_to  parent_tweet_id  reply_to_users  neg  \\\n1003        0      False        False              NaN              []  NaN   \n1002        0      False        False              NaN              []  0.0   \n1001        0      False        False              NaN              []  0.0   \n1000        0      False        False              NaN              []  0.0   \n999         0      False        False              NaN              []  0.0   \n\n        neu    pos  compound  \n1003    NaN    NaN       NaN  \n1002  1.000  0.000    0.0000  \n1001  1.000  0.000    0.0000  \n1000  1.000  0.000    0.0000  \n999   0.843  0.157    0.3818  \n\n[5 rows x 25 columns]",
      "text/html": "<div>\n<style scoped>\n    .dataframe tbody tr th:only-of-type {\n        vertical-align: middle;\n    }\n\n    .dataframe tbody tr th {\n        vertical-align: top;\n    }\n\n    .dataframe thead th {\n        text-align: right;\n    }\n</style>\n<table border=\"1\" class=\"dataframe\">\n  <thead>\n    <tr style=\"text-align: right;\">\n      <th></th>\n      <th>screen_name</th>\n      <th>username</th>\n      <th>user_id</th>\n      <th>tweet_id</th>\n      <th>tweet_url</th>\n      <th>timestamp</th>\n      <th>timestamp_epochs</th>\n      <th>text</th>\n      <th>text_html</th>\n      <th>links</th>\n      <th>...</th>\n      <th>retweets</th>\n      <th>replies</th>\n      <th>is_replied</th>\n      <th>is_reply_to</th>\n      <th>parent_tweet_id</th>\n      <th>reply_to_users</th>\n      <th>neg</th>\n      <th>neu</th>\n      <th>pos</th>\n      <th>compound</th>\n    </tr>\n  </thead>\n  <tbody>\n    <tr>\n      <th>1003</th>\n      <td>BinancePrices</td>\n      <td>BinancePrices</td>\n      <td>1000390115611566080</td>\n      <td>1212415970423259136</td>\n      <td>/BinancePrices/status/1212415970423259136</td>\n      <td>2020-01-01 16:51:07</td>\n      <td>1577897467</td>\n      <td>prices update usdt 1 hour btc 7227.23 +0.1 eth...</td>\n      <td>&lt;p class=\"TweetTextSize js-tweet-text tweet-te...</td>\n      <td>[]</td>\n      <td>...</td>\n      <td>0</td>\n      <td>0</td>\n      <td>False</td>\n      <td>False</td>\n      <td>NaN</td>\n      <td>[]</td>\n      <td>NaN</td>\n      <td>NaN</td>\n      <td>NaN</td>\n      <td>NaN</td>\n    </tr>\n    <tr>\n      <th>1002</th>\n      <td>cryptosEUR</td>\n      <td>Cryptocurrencies / EUR</td>\n      <td>1025494047564226560</td>\n      <td>1212416074920157186</td>\n      <td>/cryptosEUR/status/1212416074920157186</td>\n      <td>2020-01-01 16:51:32</td>\n      <td>1577897492</td>\n      <td>prices update eur 1 hour btc 6436.2 € +0.04 et...</td>\n      <td>&lt;p class=\"TweetTextSize js-tweet-text tweet-te...</td>\n      <td>[]</td>\n      <td>...</td>\n      <td>0</td>\n      <td>0</td>\n      <td>False</td>\n      <td>False</td>\n      <td>NaN</td>\n      <td>[]</td>\n      <td>0.0</td>\n      <td>1.000</td>\n      <td>0.000</td>\n      <td>0.0000</td>\n    </tr>\n    <tr>\n      <th>1001</th>\n      <td>cryptosUSD</td>\n      <td>Cryptocurrencies / USD</td>\n      <td>1024959511071797248</td>\n      <td>1212416083623325696</td>\n      <td>/cryptosUSD/status/1212416083623325696</td>\n      <td>2020-01-01 16:51:34</td>\n      <td>1577897494</td>\n      <td>prices update usd 1 hour btc 7209.1 +0.01 eth ...</td>\n      <td>&lt;p class=\"TweetTextSize js-tweet-text tweet-te...</td>\n      <td>[]</td>\n      <td>...</td>\n      <td>0</td>\n      <td>0</td>\n      <td>False</td>\n      <td>False</td>\n      <td>NaN</td>\n      <td>[]</td>\n      <td>0.0</td>\n      <td>1.000</td>\n      <td>0.000</td>\n      <td>0.0000</td>\n    </tr>\n    <tr>\n      <th>1000</th>\n      <td>the_alphatrades</td>\n      <td>Alpha Trades</td>\n      <td>876494440369717248</td>\n      <td>1212416252523749376</td>\n      <td>/the_alphatrades/status/1212416252523749376</td>\n      <td>2020-01-01 16:52:14</td>\n      <td>1577897534</td>\n      <td>bitcoin bottomed 6400 opportunities local pric...</td>\n      <td>&lt;p class=\"TweetTextSize js-tweet-text tweet-te...</td>\n      <td>['https://youtu.be/yXL1t3Qy07U']</td>\n      <td>...</td>\n      <td>0</td>\n      <td>0</td>\n      <td>False</td>\n      <td>False</td>\n      <td>NaN</td>\n      <td>[]</td>\n      <td>0.0</td>\n      <td>1.000</td>\n      <td>0.000</td>\n      <td>0.0000</td>\n    </tr>\n    <tr>\n      <th>999</th>\n      <td>IAM__Network</td>\n      <td>IAM Platform</td>\n      <td>226310002</td>\n      <td>1212416348288159756</td>\n      <td>/IAM__Network/status/1212416348288159756</td>\n      <td>2020-01-01 16:52:37</td>\n      <td>1577897557</td>\n      <td>iam platform curated tweet istanbul blockchain...</td>\n      <td>&lt;p class=\"TweetTextSize js-tweet-text tweet-te...</td>\n      <td>['https://blog.iammarketingmedia.com/istanbul-...</td>\n      <td>...</td>\n      <td>0</td>\n      <td>0</td>\n      <td>False</td>\n      <td>False</td>\n      <td>NaN</td>\n      <td>[]</td>\n      <td>0.0</td>\n      <td>0.843</td>\n      <td>0.157</td>\n      <td>0.3818</td>\n    </tr>\n  </tbody>\n</table>\n<p>5 rows × 25 columns</p>\n</div>"
     },
     "metadata": {},
     "execution_count": 28
    }
   ],
   "source": [
    "btc_tweets.head()"
   ]
  },
  {
   "cell_type": "markdown",
   "metadata": {},
   "source": [
    "### Merge two data frames"
   ]
  },
  {
   "cell_type": "code",
   "execution_count": 29,
   "metadata": {},
   "outputs": [
    {
     "output_type": "execute_result",
     "data": {
      "text/plain": "       screen_name                username              user_id  \\\n0    BinancePrices           BinancePrices  1000390115611566080   \n1       cryptosEUR  Cryptocurrencies / EUR  1025494047564226560   \n2       cryptosUSD  Cryptocurrencies / USD  1024959511071797248   \n3  the_alphatrades            Alpha Trades   876494440369717248   \n4     IAM__Network            IAM Platform            226310002   \n\n              tweet_id                                    tweet_url  \\\n0  1212415970423259136    /BinancePrices/status/1212415970423259136   \n1  1212416074920157186       /cryptosEUR/status/1212416074920157186   \n2  1212416083623325696       /cryptosUSD/status/1212416083623325696   \n3  1212416252523749376  /the_alphatrades/status/1212416252523749376   \n4  1212416348288159756     /IAM__Network/status/1212416348288159756   \n\n            timestamp  timestamp_epochs  \\\n0 2020-01-01 16:51:07        1577897467   \n1 2020-01-01 16:51:32        1577897492   \n2 2020-01-01 16:51:34        1577897494   \n3 2020-01-01 16:52:14        1577897534   \n4 2020-01-01 16:52:37        1577897557   \n\n                                                text  \\\n0  prices update usdt 1 hour btc 7227.23 +0.1 eth...   \n1  prices update eur 1 hour btc 6436.2 € +0.04 et...   \n2  prices update usd 1 hour btc 7209.1 +0.01 eth ...   \n3  bitcoin bottomed 6400 opportunities local pric...   \n4  iam platform curated tweet istanbul blockchain...   \n\n                                           text_html  \\\n0  <p class=\"TweetTextSize js-tweet-text tweet-te...   \n1  <p class=\"TweetTextSize js-tweet-text tweet-te...   \n2  <p class=\"TweetTextSize js-tweet-text tweet-te...   \n3  <p class=\"TweetTextSize js-tweet-text tweet-te...   \n4  <p class=\"TweetTextSize js-tweet-text tweet-te...   \n\n                                               links  ... parent_tweet_id  \\\n0                                                 []  ...             NaN   \n1                                                 []  ...             NaN   \n2                                                 []  ...             NaN   \n3                   ['https://youtu.be/yXL1t3Qy07U']  ...             NaN   \n4  ['https://blog.iammarketingmedia.com/istanbul-...  ...             NaN   \n\n   reply_to_users  neg    neu    pos  compound       date  Bitcoin  BTC  \\\n0              []  NaN    NaN    NaN       NaN 2020-01-01       49   13   \n1              []  0.0  1.000  0.000    0.0000 2020-01-01       49   13   \n2              []  0.0  1.000  0.000    0.0000 2020-01-01       49   13   \n3              []  0.0  1.000  0.000    0.0000 2020-01-01       49   13   \n4              []  0.0  0.843  0.157    0.3818 2020-01-01       49   13   \n\n   isPartial  \n0      False  \n1      False  \n2      False  \n3      False  \n4      False  \n\n[5 rows x 29 columns]",
      "text/html": "<div>\n<style scoped>\n    .dataframe tbody tr th:only-of-type {\n        vertical-align: middle;\n    }\n\n    .dataframe tbody tr th {\n        vertical-align: top;\n    }\n\n    .dataframe thead th {\n        text-align: right;\n    }\n</style>\n<table border=\"1\" class=\"dataframe\">\n  <thead>\n    <tr style=\"text-align: right;\">\n      <th></th>\n      <th>screen_name</th>\n      <th>username</th>\n      <th>user_id</th>\n      <th>tweet_id</th>\n      <th>tweet_url</th>\n      <th>timestamp</th>\n      <th>timestamp_epochs</th>\n      <th>text</th>\n      <th>text_html</th>\n      <th>links</th>\n      <th>...</th>\n      <th>parent_tweet_id</th>\n      <th>reply_to_users</th>\n      <th>neg</th>\n      <th>neu</th>\n      <th>pos</th>\n      <th>compound</th>\n      <th>date</th>\n      <th>Bitcoin</th>\n      <th>BTC</th>\n      <th>isPartial</th>\n    </tr>\n  </thead>\n  <tbody>\n    <tr>\n      <th>0</th>\n      <td>BinancePrices</td>\n      <td>BinancePrices</td>\n      <td>1000390115611566080</td>\n      <td>1212415970423259136</td>\n      <td>/BinancePrices/status/1212415970423259136</td>\n      <td>2020-01-01 16:51:07</td>\n      <td>1577897467</td>\n      <td>prices update usdt 1 hour btc 7227.23 +0.1 eth...</td>\n      <td>&lt;p class=\"TweetTextSize js-tweet-text tweet-te...</td>\n      <td>[]</td>\n      <td>...</td>\n      <td>NaN</td>\n      <td>[]</td>\n      <td>NaN</td>\n      <td>NaN</td>\n      <td>NaN</td>\n      <td>NaN</td>\n      <td>2020-01-01</td>\n      <td>49</td>\n      <td>13</td>\n      <td>False</td>\n    </tr>\n    <tr>\n      <th>1</th>\n      <td>cryptosEUR</td>\n      <td>Cryptocurrencies / EUR</td>\n      <td>1025494047564226560</td>\n      <td>1212416074920157186</td>\n      <td>/cryptosEUR/status/1212416074920157186</td>\n      <td>2020-01-01 16:51:32</td>\n      <td>1577897492</td>\n      <td>prices update eur 1 hour btc 6436.2 € +0.04 et...</td>\n      <td>&lt;p class=\"TweetTextSize js-tweet-text tweet-te...</td>\n      <td>[]</td>\n      <td>...</td>\n      <td>NaN</td>\n      <td>[]</td>\n      <td>0.0</td>\n      <td>1.000</td>\n      <td>0.000</td>\n      <td>0.0000</td>\n      <td>2020-01-01</td>\n      <td>49</td>\n      <td>13</td>\n      <td>False</td>\n    </tr>\n    <tr>\n      <th>2</th>\n      <td>cryptosUSD</td>\n      <td>Cryptocurrencies / USD</td>\n      <td>1024959511071797248</td>\n      <td>1212416083623325696</td>\n      <td>/cryptosUSD/status/1212416083623325696</td>\n      <td>2020-01-01 16:51:34</td>\n      <td>1577897494</td>\n      <td>prices update usd 1 hour btc 7209.1 +0.01 eth ...</td>\n      <td>&lt;p class=\"TweetTextSize js-tweet-text tweet-te...</td>\n      <td>[]</td>\n      <td>...</td>\n      <td>NaN</td>\n      <td>[]</td>\n      <td>0.0</td>\n      <td>1.000</td>\n      <td>0.000</td>\n      <td>0.0000</td>\n      <td>2020-01-01</td>\n      <td>49</td>\n      <td>13</td>\n      <td>False</td>\n    </tr>\n    <tr>\n      <th>3</th>\n      <td>the_alphatrades</td>\n      <td>Alpha Trades</td>\n      <td>876494440369717248</td>\n      <td>1212416252523749376</td>\n      <td>/the_alphatrades/status/1212416252523749376</td>\n      <td>2020-01-01 16:52:14</td>\n      <td>1577897534</td>\n      <td>bitcoin bottomed 6400 opportunities local pric...</td>\n      <td>&lt;p class=\"TweetTextSize js-tweet-text tweet-te...</td>\n      <td>['https://youtu.be/yXL1t3Qy07U']</td>\n      <td>...</td>\n      <td>NaN</td>\n      <td>[]</td>\n      <td>0.0</td>\n      <td>1.000</td>\n      <td>0.000</td>\n      <td>0.0000</td>\n      <td>2020-01-01</td>\n      <td>49</td>\n      <td>13</td>\n      <td>False</td>\n    </tr>\n    <tr>\n      <th>4</th>\n      <td>IAM__Network</td>\n      <td>IAM Platform</td>\n      <td>226310002</td>\n      <td>1212416348288159756</td>\n      <td>/IAM__Network/status/1212416348288159756</td>\n      <td>2020-01-01 16:52:37</td>\n      <td>1577897557</td>\n      <td>iam platform curated tweet istanbul blockchain...</td>\n      <td>&lt;p class=\"TweetTextSize js-tweet-text tweet-te...</td>\n      <td>['https://blog.iammarketingmedia.com/istanbul-...</td>\n      <td>...</td>\n      <td>NaN</td>\n      <td>[]</td>\n      <td>0.0</td>\n      <td>0.843</td>\n      <td>0.157</td>\n      <td>0.3818</td>\n      <td>2020-01-01</td>\n      <td>49</td>\n      <td>13</td>\n      <td>False</td>\n    </tr>\n  </tbody>\n</table>\n<p>5 rows × 29 columns</p>\n</div>"
     },
     "metadata": {},
     "execution_count": 29
    }
   ],
   "source": [
    "# first merge tweets with hourly trend data\n",
    "btc_merged_hourly = pd.merge_asof(btc_tweets, btc_trend, left_on='timestamp', right_on='date', direction='backward')\n",
    "btc_merged_hourly.head()"
   ]
  },
  {
   "cell_type": "code",
   "execution_count": 30,
   "metadata": {},
   "outputs": [],
   "source": [
    "btc_merged = pd.merge_asof(btc_merged_hourly, btc_volatility, left_on='timestamp', right_on='date', direction='backward', suffixes=(\"\", \"_vcrix\"))"
   ]
  },
  {
   "cell_type": "code",
   "execution_count": 31,
   "metadata": {},
   "outputs": [],
   "source": [
    "pd.set_option('display.max_colwidth', 50)"
   ]
  },
  {
   "cell_type": "code",
   "execution_count": 32,
   "metadata": {},
   "outputs": [
    {
     "output_type": "execute_result",
     "data": {
      "text/plain": "         screen_name                 username              user_id  \\\n395     CryptoRichYT              Crypto Rich   969952716930867202   \n898      CoinMoonApp                 CoinMoon  1176034667385872384   \n355      mr_kam_ogwu          ogwu osaemezu E            517479264   \n182       CryptoGulp              Crypto Gulp   945716745192574977   \n30      bitcoinagile             BitcoinAgile           2281314234   \n232     IAM__Network             IAM Platform            226310002   \n668  Bullrun_Gravano          𝐁𝐮𝐥𝐥𝐫𝐮𝐧 𝐆𝐫𝐚𝐯𝐚𝐧𝐨   999367950841806849   \n976       PaylancePH        Paylance Official           3245676818   \n655      rudapellini             Rudá Pellini             42966628   \n218    JosephRockins           Joseph Rockins   806248048242413568   \n596       IdeasPrime             Prime Trader  1053454356878479361   \n118    CoinGnuBot001  Crypto Alert@CoinGnuBot  1151432941584580608   \n\n                tweet_id                                    tweet_url  \\\n395  1212456677187956736     /CryptoRichYT/status/1212456677187956736   \n898  1212518608191901696      /CoinMoonApp/status/1212518608191901696   \n355  1212452530938093568      /mr_kam_ogwu/status/1212452530938093568   \n182  1212433388268900353       /CryptoGulp/status/1212433388268900353   \n30   1212418404298215424     /bitcoinagile/status/1212418404298215424   \n232  1212438938419449856     /IAM__Network/status/1212438938419449856   \n668  1212487893912039424  /Bullrun_Gravano/status/1212487893912039424   \n976  1212521012408938496       /PaylancePH/status/1212521012408938496   \n655  1212486577739501574      /rudapellini/status/1212486577739501574   \n218  1212437250975375362    /JosephRockins/status/1212437250975375362   \n596  1212480116917506048       /IdeasPrime/status/1212480116917506048   \n118  1212426456891940866    /CoinGnuBot001/status/1212426456891940866   \n\n              timestamp  timestamp_epochs  \\\n395 2020-01-01 19:32:52        1577907172   \n898 2020-01-01 23:38:58        1577921938   \n355 2020-01-01 19:16:24        1577906184   \n182 2020-01-01 18:00:20        1577901620   \n30  2020-01-01 17:00:47        1577898047   \n232 2020-01-01 18:22:23        1577902943   \n668 2020-01-01 21:36:55        1577914615   \n976 2020-01-01 23:48:31        1577922511   \n655 2020-01-01 21:31:41        1577914301   \n218 2020-01-01 18:15:41        1577902541   \n596 2020-01-01 21:06:01        1577912761   \n118 2020-01-01 17:32:47        1577899967   \n\n                                                  text  \\\n395  banking unbanked interest free loans poor bloc...   \n898  check top coins daily markets summary jan 2nd ...   \n355  0.1 bitcoin btc're interested selling pls dm asap   \n182  top 5 cryptocurrencies current prices bitcoin ...   \n30   alleged 8b btc tulip trust expires tales bonde...   \n232  iam platform curated tweet china expands appli...   \n668  wow ...... seriously big news gcr...expecting ...   \n976  … expect blockchain year 2020 trends shape tec...   \n655  btc bitcoin teve melhor performance da última ...   \n218  click see 24-hour bitcoin price prediction bet...   \n596  btc/usd btcusd btc usd raceaceace btcusd bitco...   \n118  fluctuation major coins past 1 h btc bitcoin -...   \n\n                                             text_html  \\\n395  <p class=\"TweetTextSize js-tweet-text tweet-te...   \n898  <p class=\"TweetTextSize js-tweet-text tweet-te...   \n355  <p class=\"TweetTextSize js-tweet-text tweet-te...   \n182  <p class=\"TweetTextSize js-tweet-text tweet-te...   \n30   <p class=\"TweetTextSize js-tweet-text tweet-te...   \n232  <p class=\"TweetTextSize js-tweet-text tweet-te...   \n668  <p class=\"TweetTextSize js-tweet-text tweet-te...   \n976  <p class=\"TweetTextSize js-tweet-text tweet-te...   \n655  <p class=\"TweetTextSize js-tweet-text tweet-te...   \n218  <p class=\"TweetTextSize js-tweet-text tweet-te...   \n596  <p class=\"TweetTextSize js-tweet-text tweet-te...   \n118  <p class=\"TweetTextSize js-tweet-text tweet-te...   \n\n                                                 links  ...    neu    pos  \\\n395  ['https://bittubers.com/post/473158df-1184-4b3...  ...  0.415  0.363   \n898                                                 []  ...  0.933  0.067   \n355                                                 []  ...  0.600  0.400   \n182                                                 []  ...  0.933  0.067   \n30   ['https://news.bitcoin.com/alleged-8b-btc-tuli...  ...  0.875  0.125   \n232  ['https://blog.iammarketingmedia.com/china-exp...  ...  0.920  0.080   \n668  ['https://twitter.com/TreosOfficial/status/121...  ...  0.618  0.200   \n976  ['https://www.bbvaopenmind.com/en/economy/fina...  ...  1.000  0.000   \n655                                                 []  ...  0.944  0.000   \n218  ['http://Pynk.io', 'https://beta.pynk.io/p/Sur...  ...  1.000  0.000   \n596                  ['http://wcex.com/trade/BTC-USD']  ...  1.000  0.000   \n118                    ['https://coingnu.com/en/su/1']  ...  1.000  0.000   \n\n    compound       date  Bitcoin  BTC  isPartial  date_vcrix       vcrix  \\\n395   0.6249 2020-01-01       49   13      False  2020-01-01  564.354535   \n898   0.2023 2020-01-01       49   13      False  2020-01-01  564.354535   \n355   0.4588 2020-01-01       49   13      False  2020-01-01  564.354535   \n182   0.2023 2020-01-01       49   13      False  2020-01-01  564.354535   \n30    0.5106 2020-01-01       49   13      False  2020-01-01  564.354535   \n232   0.1027 2020-01-01       49   13      False  2020-01-01  564.354535   \n668   0.1280 2020-01-01       49   13      False  2020-01-01  564.354535   \n976   0.0000 2020-01-01       49   13      False  2020-01-01  564.354535   \n655  -0.3818 2020-01-01       49   13      False  2020-01-01  564.354535   \n218   0.0000 2020-01-01       49   13      False  2020-01-01  564.354535   \n596   0.0000 2020-01-01       49   13      False  2020-01-01  564.354535   \n118   0.0000 2020-01-01       49   13      False  2020-01-01  564.354535   \n\n     vcrix_log_diff  \n395             NaN  \n898             NaN  \n355             NaN  \n182             NaN  \n30              NaN  \n232             NaN  \n668             NaN  \n976             NaN  \n655             NaN  \n218             NaN  \n596             NaN  \n118             NaN  \n\n[12 rows x 32 columns]",
      "text/html": "<div>\n<style scoped>\n    .dataframe tbody tr th:only-of-type {\n        vertical-align: middle;\n    }\n\n    .dataframe tbody tr th {\n        vertical-align: top;\n    }\n\n    .dataframe thead th {\n        text-align: right;\n    }\n</style>\n<table border=\"1\" class=\"dataframe\">\n  <thead>\n    <tr style=\"text-align: right;\">\n      <th></th>\n      <th>screen_name</th>\n      <th>username</th>\n      <th>user_id</th>\n      <th>tweet_id</th>\n      <th>tweet_url</th>\n      <th>timestamp</th>\n      <th>timestamp_epochs</th>\n      <th>text</th>\n      <th>text_html</th>\n      <th>links</th>\n      <th>...</th>\n      <th>neu</th>\n      <th>pos</th>\n      <th>compound</th>\n      <th>date</th>\n      <th>Bitcoin</th>\n      <th>BTC</th>\n      <th>isPartial</th>\n      <th>date_vcrix</th>\n      <th>vcrix</th>\n      <th>vcrix_log_diff</th>\n    </tr>\n  </thead>\n  <tbody>\n    <tr>\n      <th>395</th>\n      <td>CryptoRichYT</td>\n      <td>Crypto Rich</td>\n      <td>969952716930867202</td>\n      <td>1212456677187956736</td>\n      <td>/CryptoRichYT/status/1212456677187956736</td>\n      <td>2020-01-01 19:32:52</td>\n      <td>1577907172</td>\n      <td>banking unbanked interest free loans poor bloc...</td>\n      <td>&lt;p class=\"TweetTextSize js-tweet-text tweet-te...</td>\n      <td>['https://bittubers.com/post/473158df-1184-4b3...</td>\n      <td>...</td>\n      <td>0.415</td>\n      <td>0.363</td>\n      <td>0.6249</td>\n      <td>2020-01-01</td>\n      <td>49</td>\n      <td>13</td>\n      <td>False</td>\n      <td>2020-01-01</td>\n      <td>564.354535</td>\n      <td>NaN</td>\n    </tr>\n    <tr>\n      <th>898</th>\n      <td>CoinMoonApp</td>\n      <td>CoinMoon</td>\n      <td>1176034667385872384</td>\n      <td>1212518608191901696</td>\n      <td>/CoinMoonApp/status/1212518608191901696</td>\n      <td>2020-01-01 23:38:58</td>\n      <td>1577921938</td>\n      <td>check top coins daily markets summary jan 2nd ...</td>\n      <td>&lt;p class=\"TweetTextSize js-tweet-text tweet-te...</td>\n      <td>[]</td>\n      <td>...</td>\n      <td>0.933</td>\n      <td>0.067</td>\n      <td>0.2023</td>\n      <td>2020-01-01</td>\n      <td>49</td>\n      <td>13</td>\n      <td>False</td>\n      <td>2020-01-01</td>\n      <td>564.354535</td>\n      <td>NaN</td>\n    </tr>\n    <tr>\n      <th>355</th>\n      <td>mr_kam_ogwu</td>\n      <td>ogwu osaemezu E</td>\n      <td>517479264</td>\n      <td>1212452530938093568</td>\n      <td>/mr_kam_ogwu/status/1212452530938093568</td>\n      <td>2020-01-01 19:16:24</td>\n      <td>1577906184</td>\n      <td>0.1 bitcoin btc're interested selling pls dm asap</td>\n      <td>&lt;p class=\"TweetTextSize js-tweet-text tweet-te...</td>\n      <td>[]</td>\n      <td>...</td>\n      <td>0.600</td>\n      <td>0.400</td>\n      <td>0.4588</td>\n      <td>2020-01-01</td>\n      <td>49</td>\n      <td>13</td>\n      <td>False</td>\n      <td>2020-01-01</td>\n      <td>564.354535</td>\n      <td>NaN</td>\n    </tr>\n    <tr>\n      <th>182</th>\n      <td>CryptoGulp</td>\n      <td>Crypto Gulp</td>\n      <td>945716745192574977</td>\n      <td>1212433388268900353</td>\n      <td>/CryptoGulp/status/1212433388268900353</td>\n      <td>2020-01-01 18:00:20</td>\n      <td>1577901620</td>\n      <td>top 5 cryptocurrencies current prices bitcoin ...</td>\n      <td>&lt;p class=\"TweetTextSize js-tweet-text tweet-te...</td>\n      <td>[]</td>\n      <td>...</td>\n      <td>0.933</td>\n      <td>0.067</td>\n      <td>0.2023</td>\n      <td>2020-01-01</td>\n      <td>49</td>\n      <td>13</td>\n      <td>False</td>\n      <td>2020-01-01</td>\n      <td>564.354535</td>\n      <td>NaN</td>\n    </tr>\n    <tr>\n      <th>30</th>\n      <td>bitcoinagile</td>\n      <td>BitcoinAgile</td>\n      <td>2281314234</td>\n      <td>1212418404298215424</td>\n      <td>/bitcoinagile/status/1212418404298215424</td>\n      <td>2020-01-01 17:00:47</td>\n      <td>1577898047</td>\n      <td>alleged 8b btc tulip trust expires tales bonde...</td>\n      <td>&lt;p class=\"TweetTextSize js-tweet-text tweet-te...</td>\n      <td>['https://news.bitcoin.com/alleged-8b-btc-tuli...</td>\n      <td>...</td>\n      <td>0.875</td>\n      <td>0.125</td>\n      <td>0.5106</td>\n      <td>2020-01-01</td>\n      <td>49</td>\n      <td>13</td>\n      <td>False</td>\n      <td>2020-01-01</td>\n      <td>564.354535</td>\n      <td>NaN</td>\n    </tr>\n    <tr>\n      <th>232</th>\n      <td>IAM__Network</td>\n      <td>IAM Platform</td>\n      <td>226310002</td>\n      <td>1212438938419449856</td>\n      <td>/IAM__Network/status/1212438938419449856</td>\n      <td>2020-01-01 18:22:23</td>\n      <td>1577902943</td>\n      <td>iam platform curated tweet china expands appli...</td>\n      <td>&lt;p class=\"TweetTextSize js-tweet-text tweet-te...</td>\n      <td>['https://blog.iammarketingmedia.com/china-exp...</td>\n      <td>...</td>\n      <td>0.920</td>\n      <td>0.080</td>\n      <td>0.1027</td>\n      <td>2020-01-01</td>\n      <td>49</td>\n      <td>13</td>\n      <td>False</td>\n      <td>2020-01-01</td>\n      <td>564.354535</td>\n      <td>NaN</td>\n    </tr>\n    <tr>\n      <th>668</th>\n      <td>Bullrun_Gravano</td>\n      <td>𝐁𝐮𝐥𝐥𝐫𝐮𝐧 𝐆𝐫𝐚𝐯𝐚𝐧𝐨</td>\n      <td>999367950841806849</td>\n      <td>1212487893912039424</td>\n      <td>/Bullrun_Gravano/status/1212487893912039424</td>\n      <td>2020-01-01 21:36:55</td>\n      <td>1577914615</td>\n      <td>wow ...... seriously big news gcr...expecting ...</td>\n      <td>&lt;p class=\"TweetTextSize js-tweet-text tweet-te...</td>\n      <td>['https://twitter.com/TreosOfficial/status/121...</td>\n      <td>...</td>\n      <td>0.618</td>\n      <td>0.200</td>\n      <td>0.1280</td>\n      <td>2020-01-01</td>\n      <td>49</td>\n      <td>13</td>\n      <td>False</td>\n      <td>2020-01-01</td>\n      <td>564.354535</td>\n      <td>NaN</td>\n    </tr>\n    <tr>\n      <th>976</th>\n      <td>PaylancePH</td>\n      <td>Paylance Official</td>\n      <td>3245676818</td>\n      <td>1212521012408938496</td>\n      <td>/PaylancePH/status/1212521012408938496</td>\n      <td>2020-01-01 23:48:31</td>\n      <td>1577922511</td>\n      <td>… expect blockchain year 2020 trends shape tec...</td>\n      <td>&lt;p class=\"TweetTextSize js-tweet-text tweet-te...</td>\n      <td>['https://www.bbvaopenmind.com/en/economy/fina...</td>\n      <td>...</td>\n      <td>1.000</td>\n      <td>0.000</td>\n      <td>0.0000</td>\n      <td>2020-01-01</td>\n      <td>49</td>\n      <td>13</td>\n      <td>False</td>\n      <td>2020-01-01</td>\n      <td>564.354535</td>\n      <td>NaN</td>\n    </tr>\n    <tr>\n      <th>655</th>\n      <td>rudapellini</td>\n      <td>Rudá Pellini</td>\n      <td>42966628</td>\n      <td>1212486577739501574</td>\n      <td>/rudapellini/status/1212486577739501574</td>\n      <td>2020-01-01 21:31:41</td>\n      <td>1577914301</td>\n      <td>btc bitcoin teve melhor performance da última ...</td>\n      <td>&lt;p class=\"TweetTextSize js-tweet-text tweet-te...</td>\n      <td>[]</td>\n      <td>...</td>\n      <td>0.944</td>\n      <td>0.000</td>\n      <td>-0.3818</td>\n      <td>2020-01-01</td>\n      <td>49</td>\n      <td>13</td>\n      <td>False</td>\n      <td>2020-01-01</td>\n      <td>564.354535</td>\n      <td>NaN</td>\n    </tr>\n    <tr>\n      <th>218</th>\n      <td>JosephRockins</td>\n      <td>Joseph Rockins</td>\n      <td>806248048242413568</td>\n      <td>1212437250975375362</td>\n      <td>/JosephRockins/status/1212437250975375362</td>\n      <td>2020-01-01 18:15:41</td>\n      <td>1577902541</td>\n      <td>click see 24-hour bitcoin price prediction bet...</td>\n      <td>&lt;p class=\"TweetTextSize js-tweet-text tweet-te...</td>\n      <td>['http://Pynk.io', 'https://beta.pynk.io/p/Sur...</td>\n      <td>...</td>\n      <td>1.000</td>\n      <td>0.000</td>\n      <td>0.0000</td>\n      <td>2020-01-01</td>\n      <td>49</td>\n      <td>13</td>\n      <td>False</td>\n      <td>2020-01-01</td>\n      <td>564.354535</td>\n      <td>NaN</td>\n    </tr>\n    <tr>\n      <th>596</th>\n      <td>IdeasPrime</td>\n      <td>Prime Trader</td>\n      <td>1053454356878479361</td>\n      <td>1212480116917506048</td>\n      <td>/IdeasPrime/status/1212480116917506048</td>\n      <td>2020-01-01 21:06:01</td>\n      <td>1577912761</td>\n      <td>btc/usd btcusd btc usd raceaceace btcusd bitco...</td>\n      <td>&lt;p class=\"TweetTextSize js-tweet-text tweet-te...</td>\n      <td>['http://wcex.com/trade/BTC-USD']</td>\n      <td>...</td>\n      <td>1.000</td>\n      <td>0.000</td>\n      <td>0.0000</td>\n      <td>2020-01-01</td>\n      <td>49</td>\n      <td>13</td>\n      <td>False</td>\n      <td>2020-01-01</td>\n      <td>564.354535</td>\n      <td>NaN</td>\n    </tr>\n    <tr>\n      <th>118</th>\n      <td>CoinGnuBot001</td>\n      <td>Crypto Alert@CoinGnuBot</td>\n      <td>1151432941584580608</td>\n      <td>1212426456891940866</td>\n      <td>/CoinGnuBot001/status/1212426456891940866</td>\n      <td>2020-01-01 17:32:47</td>\n      <td>1577899967</td>\n      <td>fluctuation major coins past 1 h btc bitcoin -...</td>\n      <td>&lt;p class=\"TweetTextSize js-tweet-text tweet-te...</td>\n      <td>['https://coingnu.com/en/su/1']</td>\n      <td>...</td>\n      <td>1.000</td>\n      <td>0.000</td>\n      <td>0.0000</td>\n      <td>2020-01-01</td>\n      <td>49</td>\n      <td>13</td>\n      <td>False</td>\n      <td>2020-01-01</td>\n      <td>564.354535</td>\n      <td>NaN</td>\n    </tr>\n  </tbody>\n</table>\n<p>12 rows × 32 columns</p>\n</div>"
     },
     "metadata": {},
     "execution_count": 32
    }
   ],
   "source": [
    "btc_merged.sample(n=12)"
   ]
  },
  {
   "cell_type": "code",
   "execution_count": 33,
   "metadata": {},
   "outputs": [
    {
     "output_type": "execute_result",
     "data": {
      "text/plain": "Index(['screen_name', 'username', 'user_id', 'tweet_id', 'tweet_url',\n       'timestamp', 'timestamp_epochs', 'text', 'text_html', 'links',\n       'hashtags', 'has_media', 'img_urls', 'video_url', 'likes', 'retweets',\n       'replies', 'is_replied', 'is_reply_to', 'parent_tweet_id',\n       'reply_to_users', 'neg', 'neu', 'pos', 'compound', 'date', 'Bitcoin',\n       'BTC', 'isPartial', 'date_vcrix', 'vcrix', 'vcrix_log_diff'],\n      dtype='object')"
     },
     "metadata": {},
     "execution_count": 33
    }
   ],
   "source": [
    "btc_merged.columns"
   ]
  },
  {
   "cell_type": "code",
   "execution_count": 34,
   "metadata": {},
   "outputs": [
    {
     "output_type": "execute_result",
     "data": {
      "text/plain": "       screen_name                                    username  \\\n992  BittrexPrices                               BittrexPrices   \n993    domainrecap                                Domain Recap   \n994        Zectro1                                      Zectro   \n995   reqBitcoinJS  Bitcoin.js //Bitcoin price every half hour   \n996      bitcointe                                 Bitcointe 💎   \n\n                 user_id             tweet_id  \\\n992  1000111792444657665  1212522980854632450   \n993   938629455446200325  1212523382463438849   \n994  1035701087167102976  1212523515632586756   \n995  1082323663238713345  1212523651477786624   \n996  1111726282008641542  1212523680120627200   \n\n                                     tweet_url           timestamp  \\\n992  /BittrexPrices/status/1212522980854632450 2020-01-01 23:56:20   \n993    /domainrecap/status/1212523382463438849 2020-01-01 23:57:56   \n994        /Zectro1/status/1212523515632586756 2020-01-01 23:58:28   \n995   /reqBitcoinJS/status/1212523651477786624 2020-01-01 23:59:00   \n996      /bitcointe/status/1212523680120627200 2020-01-01 23:59:07   \n\n     timestamp_epochs                                               text  \\\n992        1577922980  prices update usdt 1 hour btc 7198.97 +0.07 et...   \n993        1577923076  released tbr .ca results leftovers january 1 b...   \n994        1577923108  've got divorce idea every critic bsv fan btcn...   \n995        1577923140  jan 1 2020 23:58:00 utc 7,188 usd €6,409 eur £...   \n996        1577923147  key gamers crypto blockchain share new 12 mont...   \n\n                                             text_html  \\\n992  <p class=\"TweetTextSize js-tweet-text tweet-te...   \n993  <p class=\"TweetTextSize js-tweet-text tweet-te...   \n994  <p class=\"TweetTextSize js-tweet-text tweet-te...   \n995  <p class=\"TweetTextSize js-tweet-text tweet-te...   \n996  <p class=\"TweetTextSize js-tweet-text tweet-te...   \n\n                                                 links  ...    neu    pos  \\\n992                                                 []  ...  1.000  0.000   \n993  ['https://www.domainrecap.com/2020/picks/to-be...  ...  1.000  0.000   \n994                                                 []  ...  0.481  0.225   \n995                                                 []  ...  1.000  0.000   \n996  ['https://www.bitcointe.com/2020/01/01/key-gam...  ...  0.774  0.226   \n\n    compound       date  Bitcoin  BTC  isPartial  date_vcrix       vcrix  \\\n992   0.0000 2020-01-01       49   13      False  2020-01-01  564.354535   \n993   0.0000 2020-01-01       49   13      False  2020-01-01  564.354535   \n994  -0.4534 2020-01-01       49   13      False  2020-01-01  564.354535   \n995   0.0000 2020-01-01       49   13      False  2020-01-01  564.354535   \n996   0.3612 2020-01-01       49   13      False  2020-01-01  564.354535   \n\n     vcrix_log_diff  \n992             NaN  \n993             NaN  \n994             NaN  \n995             NaN  \n996             NaN  \n\n[5 rows x 32 columns]",
      "text/html": "<div>\n<style scoped>\n    .dataframe tbody tr th:only-of-type {\n        vertical-align: middle;\n    }\n\n    .dataframe tbody tr th {\n        vertical-align: top;\n    }\n\n    .dataframe thead th {\n        text-align: right;\n    }\n</style>\n<table border=\"1\" class=\"dataframe\">\n  <thead>\n    <tr style=\"text-align: right;\">\n      <th></th>\n      <th>screen_name</th>\n      <th>username</th>\n      <th>user_id</th>\n      <th>tweet_id</th>\n      <th>tweet_url</th>\n      <th>timestamp</th>\n      <th>timestamp_epochs</th>\n      <th>text</th>\n      <th>text_html</th>\n      <th>links</th>\n      <th>...</th>\n      <th>neu</th>\n      <th>pos</th>\n      <th>compound</th>\n      <th>date</th>\n      <th>Bitcoin</th>\n      <th>BTC</th>\n      <th>isPartial</th>\n      <th>date_vcrix</th>\n      <th>vcrix</th>\n      <th>vcrix_log_diff</th>\n    </tr>\n  </thead>\n  <tbody>\n    <tr>\n      <th>992</th>\n      <td>BittrexPrices</td>\n      <td>BittrexPrices</td>\n      <td>1000111792444657665</td>\n      <td>1212522980854632450</td>\n      <td>/BittrexPrices/status/1212522980854632450</td>\n      <td>2020-01-01 23:56:20</td>\n      <td>1577922980</td>\n      <td>prices update usdt 1 hour btc 7198.97 +0.07 et...</td>\n      <td>&lt;p class=\"TweetTextSize js-tweet-text tweet-te...</td>\n      <td>[]</td>\n      <td>...</td>\n      <td>1.000</td>\n      <td>0.000</td>\n      <td>0.0000</td>\n      <td>2020-01-01</td>\n      <td>49</td>\n      <td>13</td>\n      <td>False</td>\n      <td>2020-01-01</td>\n      <td>564.354535</td>\n      <td>NaN</td>\n    </tr>\n    <tr>\n      <th>993</th>\n      <td>domainrecap</td>\n      <td>Domain Recap</td>\n      <td>938629455446200325</td>\n      <td>1212523382463438849</td>\n      <td>/domainrecap/status/1212523382463438849</td>\n      <td>2020-01-01 23:57:56</td>\n      <td>1577923076</td>\n      <td>released tbr .ca results leftovers january 1 b...</td>\n      <td>&lt;p class=\"TweetTextSize js-tweet-text tweet-te...</td>\n      <td>['https://www.domainrecap.com/2020/picks/to-be...</td>\n      <td>...</td>\n      <td>1.000</td>\n      <td>0.000</td>\n      <td>0.0000</td>\n      <td>2020-01-01</td>\n      <td>49</td>\n      <td>13</td>\n      <td>False</td>\n      <td>2020-01-01</td>\n      <td>564.354535</td>\n      <td>NaN</td>\n    </tr>\n    <tr>\n      <th>994</th>\n      <td>Zectro1</td>\n      <td>Zectro</td>\n      <td>1035701087167102976</td>\n      <td>1212523515632586756</td>\n      <td>/Zectro1/status/1212523515632586756</td>\n      <td>2020-01-01 23:58:28</td>\n      <td>1577923108</td>\n      <td>'ve got divorce idea every critic bsv fan btcn...</td>\n      <td>&lt;p class=\"TweetTextSize js-tweet-text tweet-te...</td>\n      <td>[]</td>\n      <td>...</td>\n      <td>0.481</td>\n      <td>0.225</td>\n      <td>-0.4534</td>\n      <td>2020-01-01</td>\n      <td>49</td>\n      <td>13</td>\n      <td>False</td>\n      <td>2020-01-01</td>\n      <td>564.354535</td>\n      <td>NaN</td>\n    </tr>\n    <tr>\n      <th>995</th>\n      <td>reqBitcoinJS</td>\n      <td>Bitcoin.js //Bitcoin price every half hour</td>\n      <td>1082323663238713345</td>\n      <td>1212523651477786624</td>\n      <td>/reqBitcoinJS/status/1212523651477786624</td>\n      <td>2020-01-01 23:59:00</td>\n      <td>1577923140</td>\n      <td>jan 1 2020 23:58:00 utc 7,188 usd €6,409 eur £...</td>\n      <td>&lt;p class=\"TweetTextSize js-tweet-text tweet-te...</td>\n      <td>[]</td>\n      <td>...</td>\n      <td>1.000</td>\n      <td>0.000</td>\n      <td>0.0000</td>\n      <td>2020-01-01</td>\n      <td>49</td>\n      <td>13</td>\n      <td>False</td>\n      <td>2020-01-01</td>\n      <td>564.354535</td>\n      <td>NaN</td>\n    </tr>\n    <tr>\n      <th>996</th>\n      <td>bitcointe</td>\n      <td>Bitcointe 💎</td>\n      <td>1111726282008641542</td>\n      <td>1212523680120627200</td>\n      <td>/bitcointe/status/1212523680120627200</td>\n      <td>2020-01-01 23:59:07</td>\n      <td>1577923147</td>\n      <td>key gamers crypto blockchain share new 12 mont...</td>\n      <td>&lt;p class=\"TweetTextSize js-tweet-text tweet-te...</td>\n      <td>['https://www.bitcointe.com/2020/01/01/key-gam...</td>\n      <td>...</td>\n      <td>0.774</td>\n      <td>0.226</td>\n      <td>0.3612</td>\n      <td>2020-01-01</td>\n      <td>49</td>\n      <td>13</td>\n      <td>False</td>\n      <td>2020-01-01</td>\n      <td>564.354535</td>\n      <td>NaN</td>\n    </tr>\n  </tbody>\n</table>\n<p>5 rows × 32 columns</p>\n</div>"
     },
     "metadata": {},
     "execution_count": 34
    }
   ],
   "source": [
    "btc_merged.tail()"
   ]
  },
  {
   "cell_type": "code",
   "execution_count": 36,
   "metadata": {},
   "outputs": [],
   "source": [
    "btc_merged.to_csv('../data/btc_final.csv', index=False)"
   ]
  },
  {
   "cell_type": "markdown",
   "metadata": {},
   "source": [
    "### Aggregation by day"
   ]
  },
  {
   "cell_type": "code",
   "execution_count": 37,
   "metadata": {},
   "outputs": [
    {
     "output_type": "execute_result",
     "data": {
      "text/plain": "Index(['screen_name', 'username', 'user_id', 'tweet_id', 'tweet_url',\n       'timestamp', 'timestamp_epochs', 'text', 'text_html', 'links',\n       'hashtags', 'has_media', 'img_urls', 'video_url', 'likes', 'retweets',\n       'replies', 'is_replied', 'is_reply_to', 'parent_tweet_id',\n       'reply_to_users', 'neg', 'neu', 'pos', 'compound', 'date', 'Bitcoin',\n       'BTC', 'isPartial', 'date_vcrix', 'vcrix', 'vcrix_log_diff'],\n      dtype='object')"
     },
     "metadata": {},
     "execution_count": 37
    }
   ],
   "source": [
    "btc_merged.columns"
   ]
  },
  {
   "cell_type": "code",
   "execution_count": 38,
   "metadata": {},
   "outputs": [],
   "source": [
    "btc_by_day = btc_merged.resample('d', on='date').mean().dropna(how='all')"
   ]
  },
  {
   "cell_type": "code",
   "execution_count": 39,
   "metadata": {
    "tags": []
   },
   "outputs": [
    {
     "output_type": "stream",
     "name": "stdout",
     "text": "(997, 32) (1, 20)\n"
    }
   ],
   "source": [
    "print(btc_merged.shape, btc_by_day.shape)"
   ]
  },
  {
   "cell_type": "code",
   "execution_count": 40,
   "metadata": {},
   "outputs": [
    {
     "output_type": "execute_result",
     "data": {
      "text/plain": "     screen_name       username              user_id             tweet_id  \\\n0  BinancePrices  BinancePrices  1000390115611566080  1212415970423259136   \n\n                                   tweet_url           timestamp  \\\n0  /BinancePrices/status/1212415970423259136 2020-01-01 16:51:07   \n\n   timestamp_epochs                                               text  \\\n0        1577897467  prices update usdt 1 hour btc 7227.23 +0.1 eth...   \n\n                                           text_html links  ... neu  pos  \\\n0  <p class=\"TweetTextSize js-tweet-text tweet-te...    []  ... NaN  NaN   \n\n  compound       date  Bitcoin  BTC  isPartial  date_vcrix       vcrix  \\\n0      NaN 2020-01-01       49   13      False  2020-01-01  564.354535   \n\n   vcrix_log_diff  \n0             NaN  \n\n[1 rows x 32 columns]",
      "text/html": "<div>\n<style scoped>\n    .dataframe tbody tr th:only-of-type {\n        vertical-align: middle;\n    }\n\n    .dataframe tbody tr th {\n        vertical-align: top;\n    }\n\n    .dataframe thead th {\n        text-align: right;\n    }\n</style>\n<table border=\"1\" class=\"dataframe\">\n  <thead>\n    <tr style=\"text-align: right;\">\n      <th></th>\n      <th>screen_name</th>\n      <th>username</th>\n      <th>user_id</th>\n      <th>tweet_id</th>\n      <th>tweet_url</th>\n      <th>timestamp</th>\n      <th>timestamp_epochs</th>\n      <th>text</th>\n      <th>text_html</th>\n      <th>links</th>\n      <th>...</th>\n      <th>neu</th>\n      <th>pos</th>\n      <th>compound</th>\n      <th>date</th>\n      <th>Bitcoin</th>\n      <th>BTC</th>\n      <th>isPartial</th>\n      <th>date_vcrix</th>\n      <th>vcrix</th>\n      <th>vcrix_log_diff</th>\n    </tr>\n  </thead>\n  <tbody>\n    <tr>\n      <th>0</th>\n      <td>BinancePrices</td>\n      <td>BinancePrices</td>\n      <td>1000390115611566080</td>\n      <td>1212415970423259136</td>\n      <td>/BinancePrices/status/1212415970423259136</td>\n      <td>2020-01-01 16:51:07</td>\n      <td>1577897467</td>\n      <td>prices update usdt 1 hour btc 7227.23 +0.1 eth...</td>\n      <td>&lt;p class=\"TweetTextSize js-tweet-text tweet-te...</td>\n      <td>[]</td>\n      <td>...</td>\n      <td>NaN</td>\n      <td>NaN</td>\n      <td>NaN</td>\n      <td>2020-01-01</td>\n      <td>49</td>\n      <td>13</td>\n      <td>False</td>\n      <td>2020-01-01</td>\n      <td>564.354535</td>\n      <td>NaN</td>\n    </tr>\n  </tbody>\n</table>\n<p>1 rows × 32 columns</p>\n</div>"
     },
     "metadata": {},
     "execution_count": 40
    }
   ],
   "source": [
    "btc_merged[btc_merged['compound'].isnull()]"
   ]
  },
  {
   "cell_type": "code",
   "execution_count": 42,
   "metadata": {
    "tags": []
   },
   "outputs": [
    {
     "output_type": "execute_result",
     "data": {
      "text/plain": "                 user_id      tweet_id  timestamp_epochs  has_media  \\\ndate                                                                  \n2020-01-01  6.313897e+17  1.212470e+18      1.577910e+09   0.222668   \n\n            video_url     likes  retweets   replies  is_replied  is_reply_to  \\\ndate                                                                           \n2020-01-01        NaN  3.223671  0.968907  0.887663    0.160481     0.135406   \n\n            parent_tweet_id       neg       neu       pos  compound  Bitcoin  \\\ndate                                                                           \n2020-01-01     1.205296e+18  0.023848  0.882992  0.092149  0.186096     49.0   \n\n             BTC  isPartial       vcrix  vcrix_log_diff  \ndate                                                     \n2020-01-01  13.0        0.0  564.354535             NaN  ",
      "text/html": "<div>\n<style scoped>\n    .dataframe tbody tr th:only-of-type {\n        vertical-align: middle;\n    }\n\n    .dataframe tbody tr th {\n        vertical-align: top;\n    }\n\n    .dataframe thead th {\n        text-align: right;\n    }\n</style>\n<table border=\"1\" class=\"dataframe\">\n  <thead>\n    <tr style=\"text-align: right;\">\n      <th></th>\n      <th>user_id</th>\n      <th>tweet_id</th>\n      <th>timestamp_epochs</th>\n      <th>has_media</th>\n      <th>video_url</th>\n      <th>likes</th>\n      <th>retweets</th>\n      <th>replies</th>\n      <th>is_replied</th>\n      <th>is_reply_to</th>\n      <th>parent_tweet_id</th>\n      <th>neg</th>\n      <th>neu</th>\n      <th>pos</th>\n      <th>compound</th>\n      <th>Bitcoin</th>\n      <th>BTC</th>\n      <th>isPartial</th>\n      <th>vcrix</th>\n      <th>vcrix_log_diff</th>\n    </tr>\n    <tr>\n      <th>date</th>\n      <th></th>\n      <th></th>\n      <th></th>\n      <th></th>\n      <th></th>\n      <th></th>\n      <th></th>\n      <th></th>\n      <th></th>\n      <th></th>\n      <th></th>\n      <th></th>\n      <th></th>\n      <th></th>\n      <th></th>\n      <th></th>\n      <th></th>\n      <th></th>\n      <th></th>\n      <th></th>\n    </tr>\n  </thead>\n  <tbody>\n    <tr>\n      <th>2020-01-01</th>\n      <td>6.313897e+17</td>\n      <td>1.212470e+18</td>\n      <td>1.577910e+09</td>\n      <td>0.222668</td>\n      <td>NaN</td>\n      <td>3.223671</td>\n      <td>0.968907</td>\n      <td>0.887663</td>\n      <td>0.160481</td>\n      <td>0.135406</td>\n      <td>1.205296e+18</td>\n      <td>0.023848</td>\n      <td>0.882992</td>\n      <td>0.092149</td>\n      <td>0.186096</td>\n      <td>49.0</td>\n      <td>13.0</td>\n      <td>0.0</td>\n      <td>564.354535</td>\n      <td>NaN</td>\n    </tr>\n  </tbody>\n</table>\n</div>"
     },
     "metadata": {},
     "execution_count": 42
    }
   ],
   "source": [
    "btc_by_day.head()"
   ]
  }
 ],
 "metadata": {
  "language_info": {
   "codemirror_mode": {
    "name": "ipython",
    "version": 3
   },
   "file_extension": ".py",
   "mimetype": "text/x-python",
   "name": "python",
   "nbconvert_exporter": "python",
   "pygments_lexer": "ipython3",
   "version": "3.8.2-final"
  },
  "orig_nbformat": 2,
  "kernelspec": {
   "name": "python38264bitcvconda42f6ee1eb600418da12fd4932d15bb6b",
   "display_name": "Python 3.8.2 64-bit ('CV': conda)"
  }
 },
 "nbformat": 4,
 "nbformat_minor": 2
}